{
 "cells": [
  {
   "cell_type": "code",
   "execution_count": 150,
   "metadata": {},
   "outputs": [],
   "source": [
    "import pandas as pd\n",
    "from sklearn.model_selection import train_test_split\n",
    "X_full = pd.read_csv(\"./home-data-for-ml-course/train.csv\", index_col=\"Id\")\n",
    "X_test_full = pd.read_csv(\"./home-data-for-ml-course/test.csv\", index_col=\"Id\")\n",
    "\n",
    "# remove rows with no y values\n",
    "X_full.dropna(axis=0,subset=['SalePrice'],inplace=True)\n",
    "y = X_full['SalePrice']\n",
    "# drop SalePrice column from predictors\n",
    "X_full.drop(['SalePrice'],axis=1,inplace=True)\n",
    "\n",
    "# keep only numerical\n",
    "X = X_full.select_dtypes(exclude=['object'])\n",
    "X_test = X_test_full.select_dtypes(exclude=['object'])\n",
    "\n",
    "# split training data set\n",
    "X_train, X_valid, y_train, y_valid = train_test_split(X,y,\n",
    "                                                    train_size=0.8, test_size=0.2,\n",
    "                                                    random_state=0)\n"
   ]
  },
  {
   "cell_type": "code",
   "execution_count": 151,
   "metadata": {},
   "outputs": [
    {
     "name": "stdout",
     "output_type": "stream",
     "text": [
      "(1168, 36)\n"
     ]
    },
    {
     "data": {
      "text/html": [
       "<div>\n",
       "<style scoped>\n",
       "    .dataframe tbody tr th:only-of-type {\n",
       "        vertical-align: middle;\n",
       "    }\n",
       "\n",
       "    .dataframe tbody tr th {\n",
       "        vertical-align: top;\n",
       "    }\n",
       "\n",
       "    .dataframe thead th {\n",
       "        text-align: right;\n",
       "    }\n",
       "</style>\n",
       "<table border=\"1\" class=\"dataframe\">\n",
       "  <thead>\n",
       "    <tr style=\"text-align: right;\">\n",
       "      <th></th>\n",
       "      <th>MSSubClass</th>\n",
       "      <th>LotFrontage</th>\n",
       "      <th>LotArea</th>\n",
       "      <th>OverallQual</th>\n",
       "      <th>OverallCond</th>\n",
       "      <th>YearBuilt</th>\n",
       "      <th>YearRemodAdd</th>\n",
       "      <th>MasVnrArea</th>\n",
       "      <th>BsmtFinSF1</th>\n",
       "      <th>BsmtFinSF2</th>\n",
       "      <th>...</th>\n",
       "      <th>GarageArea</th>\n",
       "      <th>WoodDeckSF</th>\n",
       "      <th>OpenPorchSF</th>\n",
       "      <th>EnclosedPorch</th>\n",
       "      <th>3SsnPorch</th>\n",
       "      <th>ScreenPorch</th>\n",
       "      <th>PoolArea</th>\n",
       "      <th>MiscVal</th>\n",
       "      <th>MoSold</th>\n",
       "      <th>YrSold</th>\n",
       "    </tr>\n",
       "  </thead>\n",
       "  <tbody>\n",
       "    <tr>\n",
       "      <th>count</th>\n",
       "      <td>1168.000000</td>\n",
       "      <td>956.000000</td>\n",
       "      <td>1168.000000</td>\n",
       "      <td>1168.000000</td>\n",
       "      <td>1168.000000</td>\n",
       "      <td>1168.000000</td>\n",
       "      <td>1168.000000</td>\n",
       "      <td>1162.000000</td>\n",
       "      <td>1168.000000</td>\n",
       "      <td>1168.000000</td>\n",
       "      <td>...</td>\n",
       "      <td>1168.000000</td>\n",
       "      <td>1168.000000</td>\n",
       "      <td>1168.000000</td>\n",
       "      <td>1168.000000</td>\n",
       "      <td>1168.000000</td>\n",
       "      <td>1168.000000</td>\n",
       "      <td>1168.000000</td>\n",
       "      <td>1168.000000</td>\n",
       "      <td>1168.000000</td>\n",
       "      <td>1168.000000</td>\n",
       "    </tr>\n",
       "    <tr>\n",
       "      <th>mean</th>\n",
       "      <td>56.605308</td>\n",
       "      <td>69.614017</td>\n",
       "      <td>10589.672945</td>\n",
       "      <td>6.086473</td>\n",
       "      <td>5.572774</td>\n",
       "      <td>1970.890411</td>\n",
       "      <td>1984.692637</td>\n",
       "      <td>103.481067</td>\n",
       "      <td>439.890411</td>\n",
       "      <td>45.571918</td>\n",
       "      <td>...</td>\n",
       "      <td>473.632705</td>\n",
       "      <td>94.498288</td>\n",
       "      <td>48.044521</td>\n",
       "      <td>23.022260</td>\n",
       "      <td>3.218322</td>\n",
       "      <td>14.528253</td>\n",
       "      <td>2.118151</td>\n",
       "      <td>50.936644</td>\n",
       "      <td>6.301370</td>\n",
       "      <td>2007.819349</td>\n",
       "    </tr>\n",
       "    <tr>\n",
       "      <th>std</th>\n",
       "      <td>42.172322</td>\n",
       "      <td>22.946069</td>\n",
       "      <td>10704.180793</td>\n",
       "      <td>1.367472</td>\n",
       "      <td>1.116908</td>\n",
       "      <td>30.407486</td>\n",
       "      <td>20.684612</td>\n",
       "      <td>182.676225</td>\n",
       "      <td>435.106803</td>\n",
       "      <td>156.229962</td>\n",
       "      <td>...</td>\n",
       "      <td>209.442320</td>\n",
       "      <td>127.312017</td>\n",
       "      <td>68.619199</td>\n",
       "      <td>63.153093</td>\n",
       "      <td>27.916593</td>\n",
       "      <td>54.009608</td>\n",
       "      <td>36.482294</td>\n",
       "      <td>550.380636</td>\n",
       "      <td>2.725977</td>\n",
       "      <td>1.335971</td>\n",
       "    </tr>\n",
       "    <tr>\n",
       "      <th>min</th>\n",
       "      <td>20.000000</td>\n",
       "      <td>21.000000</td>\n",
       "      <td>1300.000000</td>\n",
       "      <td>1.000000</td>\n",
       "      <td>1.000000</td>\n",
       "      <td>1872.000000</td>\n",
       "      <td>1950.000000</td>\n",
       "      <td>0.000000</td>\n",
       "      <td>0.000000</td>\n",
       "      <td>0.000000</td>\n",
       "      <td>...</td>\n",
       "      <td>0.000000</td>\n",
       "      <td>0.000000</td>\n",
       "      <td>0.000000</td>\n",
       "      <td>0.000000</td>\n",
       "      <td>0.000000</td>\n",
       "      <td>0.000000</td>\n",
       "      <td>0.000000</td>\n",
       "      <td>0.000000</td>\n",
       "      <td>1.000000</td>\n",
       "      <td>2006.000000</td>\n",
       "    </tr>\n",
       "    <tr>\n",
       "      <th>25%</th>\n",
       "      <td>20.000000</td>\n",
       "      <td>59.000000</td>\n",
       "      <td>7589.500000</td>\n",
       "      <td>5.000000</td>\n",
       "      <td>5.000000</td>\n",
       "      <td>1953.750000</td>\n",
       "      <td>1966.000000</td>\n",
       "      <td>0.000000</td>\n",
       "      <td>0.000000</td>\n",
       "      <td>0.000000</td>\n",
       "      <td>...</td>\n",
       "      <td>336.000000</td>\n",
       "      <td>0.000000</td>\n",
       "      <td>0.000000</td>\n",
       "      <td>0.000000</td>\n",
       "      <td>0.000000</td>\n",
       "      <td>0.000000</td>\n",
       "      <td>0.000000</td>\n",
       "      <td>0.000000</td>\n",
       "      <td>5.000000</td>\n",
       "      <td>2007.000000</td>\n",
       "    </tr>\n",
       "    <tr>\n",
       "      <th>50%</th>\n",
       "      <td>50.000000</td>\n",
       "      <td>69.000000</td>\n",
       "      <td>9512.500000</td>\n",
       "      <td>6.000000</td>\n",
       "      <td>5.000000</td>\n",
       "      <td>1972.000000</td>\n",
       "      <td>1993.000000</td>\n",
       "      <td>0.000000</td>\n",
       "      <td>379.500000</td>\n",
       "      <td>0.000000</td>\n",
       "      <td>...</td>\n",
       "      <td>477.500000</td>\n",
       "      <td>0.000000</td>\n",
       "      <td>26.000000</td>\n",
       "      <td>0.000000</td>\n",
       "      <td>0.000000</td>\n",
       "      <td>0.000000</td>\n",
       "      <td>0.000000</td>\n",
       "      <td>0.000000</td>\n",
       "      <td>6.000000</td>\n",
       "      <td>2008.000000</td>\n",
       "    </tr>\n",
       "    <tr>\n",
       "      <th>75%</th>\n",
       "      <td>70.000000</td>\n",
       "      <td>80.000000</td>\n",
       "      <td>11601.500000</td>\n",
       "      <td>7.000000</td>\n",
       "      <td>6.000000</td>\n",
       "      <td>2000.000000</td>\n",
       "      <td>2004.000000</td>\n",
       "      <td>167.750000</td>\n",
       "      <td>716.000000</td>\n",
       "      <td>0.000000</td>\n",
       "      <td>...</td>\n",
       "      <td>576.000000</td>\n",
       "      <td>168.000000</td>\n",
       "      <td>68.000000</td>\n",
       "      <td>0.000000</td>\n",
       "      <td>0.000000</td>\n",
       "      <td>0.000000</td>\n",
       "      <td>0.000000</td>\n",
       "      <td>0.000000</td>\n",
       "      <td>8.000000</td>\n",
       "      <td>2009.000000</td>\n",
       "    </tr>\n",
       "    <tr>\n",
       "      <th>max</th>\n",
       "      <td>190.000000</td>\n",
       "      <td>313.000000</td>\n",
       "      <td>215245.000000</td>\n",
       "      <td>10.000000</td>\n",
       "      <td>9.000000</td>\n",
       "      <td>2010.000000</td>\n",
       "      <td>2010.000000</td>\n",
       "      <td>1600.000000</td>\n",
       "      <td>2260.000000</td>\n",
       "      <td>1120.000000</td>\n",
       "      <td>...</td>\n",
       "      <td>1390.000000</td>\n",
       "      <td>736.000000</td>\n",
       "      <td>547.000000</td>\n",
       "      <td>552.000000</td>\n",
       "      <td>508.000000</td>\n",
       "      <td>480.000000</td>\n",
       "      <td>738.000000</td>\n",
       "      <td>15500.000000</td>\n",
       "      <td>12.000000</td>\n",
       "      <td>2010.000000</td>\n",
       "    </tr>\n",
       "  </tbody>\n",
       "</table>\n",
       "<p>8 rows × 36 columns</p>\n",
       "</div>"
      ],
      "text/plain": [
       "        MSSubClass  LotFrontage        LotArea  OverallQual  OverallCond  \\\n",
       "count  1168.000000   956.000000    1168.000000  1168.000000  1168.000000   \n",
       "mean     56.605308    69.614017   10589.672945     6.086473     5.572774   \n",
       "std      42.172322    22.946069   10704.180793     1.367472     1.116908   \n",
       "min      20.000000    21.000000    1300.000000     1.000000     1.000000   \n",
       "25%      20.000000    59.000000    7589.500000     5.000000     5.000000   \n",
       "50%      50.000000    69.000000    9512.500000     6.000000     5.000000   \n",
       "75%      70.000000    80.000000   11601.500000     7.000000     6.000000   \n",
       "max     190.000000   313.000000  215245.000000    10.000000     9.000000   \n",
       "\n",
       "         YearBuilt  YearRemodAdd   MasVnrArea   BsmtFinSF1   BsmtFinSF2  ...  \\\n",
       "count  1168.000000   1168.000000  1162.000000  1168.000000  1168.000000  ...   \n",
       "mean   1970.890411   1984.692637   103.481067   439.890411    45.571918  ...   \n",
       "std      30.407486     20.684612   182.676225   435.106803   156.229962  ...   \n",
       "min    1872.000000   1950.000000     0.000000     0.000000     0.000000  ...   \n",
       "25%    1953.750000   1966.000000     0.000000     0.000000     0.000000  ...   \n",
       "50%    1972.000000   1993.000000     0.000000   379.500000     0.000000  ...   \n",
       "75%    2000.000000   2004.000000   167.750000   716.000000     0.000000  ...   \n",
       "max    2010.000000   2010.000000  1600.000000  2260.000000  1120.000000  ...   \n",
       "\n",
       "        GarageArea   WoodDeckSF  OpenPorchSF  EnclosedPorch    3SsnPorch  \\\n",
       "count  1168.000000  1168.000000  1168.000000    1168.000000  1168.000000   \n",
       "mean    473.632705    94.498288    48.044521      23.022260     3.218322   \n",
       "std     209.442320   127.312017    68.619199      63.153093    27.916593   \n",
       "min       0.000000     0.000000     0.000000       0.000000     0.000000   \n",
       "25%     336.000000     0.000000     0.000000       0.000000     0.000000   \n",
       "50%     477.500000     0.000000    26.000000       0.000000     0.000000   \n",
       "75%     576.000000   168.000000    68.000000       0.000000     0.000000   \n",
       "max    1390.000000   736.000000   547.000000     552.000000   508.000000   \n",
       "\n",
       "       ScreenPorch     PoolArea       MiscVal       MoSold       YrSold  \n",
       "count  1168.000000  1168.000000   1168.000000  1168.000000  1168.000000  \n",
       "mean     14.528253     2.118151     50.936644     6.301370  2007.819349  \n",
       "std      54.009608    36.482294    550.380636     2.725977     1.335971  \n",
       "min       0.000000     0.000000      0.000000     1.000000  2006.000000  \n",
       "25%       0.000000     0.000000      0.000000     5.000000  2007.000000  \n",
       "50%       0.000000     0.000000      0.000000     6.000000  2008.000000  \n",
       "75%       0.000000     0.000000      0.000000     8.000000  2009.000000  \n",
       "max     480.000000   738.000000  15500.000000    12.000000  2010.000000  \n",
       "\n",
       "[8 rows x 36 columns]"
      ]
     },
     "execution_count": 151,
     "metadata": {},
     "output_type": "execute_result"
    }
   ],
   "source": [
    "print(X_train.shape)\n",
    "X_train.describe()"
   ]
  },
  {
   "cell_type": "code",
   "execution_count": 152,
   "metadata": {},
   "outputs": [
    {
     "name": "stdout",
     "output_type": "stream",
     "text": [
      "<class 'pandas.core.series.Series'>\n",
      "LotFrontage    212\n",
      "MasVnrArea       6\n",
      "GarageYrBlt     58\n",
      "dtype: int64\n"
     ]
    }
   ],
   "source": [
    "# Number of missing values in each column of training data\n",
    "missing_val_count_by_column = (X_train.isnull().sum())\n",
    "print(type(missing_val_count_by_column))\n",
    "print(missing_val_count_by_column[missing_val_count_by_column > 0])"
   ]
  },
  {
   "cell_type": "code",
   "execution_count": 153,
   "metadata": {},
   "outputs": [
    {
     "data": {
      "text/plain": [
       "3"
      ]
     },
     "execution_count": 153,
     "metadata": {},
     "output_type": "execute_result"
    }
   ],
   "source": [
    "num_cols_with_missing_val = (X_train.isnull().sum() > 0).sum()\n",
    "num_cols_with_missing_val "
   ]
  },
  {
   "cell_type": "code",
   "execution_count": 154,
   "metadata": {},
   "outputs": [
    {
     "name": "stdout",
     "output_type": "stream",
     "text": [
      "0       0\n",
      "1     NaN\n",
      "2    None\n",
      "3        \n",
      "4       1\n",
      "dtype: object\n",
      "**********\n",
      "0    False\n",
      "1     True\n",
      "2     True\n",
      "3    False\n",
      "4    False\n",
      "dtype: bool\n",
      "**********\n",
      "0    False\n",
      "1     True\n",
      "2     True\n",
      "3    False\n",
      "4    False\n",
      "dtype: bool\n"
     ]
    }
   ],
   "source": [
    "import numpy as np\n",
    "test_series = pd.Series([0,np.nan,None,\"\",1])\n",
    "print(test_series)\n",
    "print(\"*\"*10)\n",
    "print(test_series.isnull())\n",
    "print(\"*\"*10)\n",
    "print(test_series.isna())"
   ]
  },
  {
   "cell_type": "code",
   "execution_count": 155,
   "metadata": {},
   "outputs": [
    {
     "data": {
      "text/plain": [
       "276"
      ]
     },
     "execution_count": 155,
     "metadata": {},
     "output_type": "execute_result"
    }
   ],
   "source": [
    "tot_missing = X_train.isnull().sum().sum()\n",
    "tot_missing"
   ]
  },
  {
   "cell_type": "code",
   "execution_count": 156,
   "metadata": {},
   "outputs": [],
   "source": [
    "from sklearn.ensemble import RandomForestRegressor\n",
    "from sklearn.metrics import mean_absolute_error\n",
    "\n",
    "def score_dataset(X_train, X_valid,y_train,y_valid):\n",
    "    model = RandomForestRegressor(n_estimators=100,random_state=0)\n",
    "    model.fit(X_train,y_train)\n",
    "    preds = model.predict(X_valid)\n",
    "    return mean_absolute_error(y_valid, preds)"
   ]
  },
  {
   "attachments": {},
   "cell_type": "markdown",
   "metadata": {},
   "source": [
    "### Test dropping columns with missing values"
   ]
  },
  {
   "cell_type": "code",
   "execution_count": 157,
   "metadata": {},
   "outputs": [
    {
     "name": "stdout",
     "output_type": "stream",
     "text": [
      "(1168, 33) (1168,)\n",
      "MAE (Drop columns with missing values):\n",
      "17837.82570776256\n"
     ]
    }
   ],
   "source": [
    "# test drop columns with missing values\n",
    "cols_with_missing_vals = [col for col in X_train.columns\n",
    "                          if X_train[col].isnull().any()]\n",
    "\n",
    "X_train_drop_cols = X_train.drop(cols_with_missing_vals, axis=1)\n",
    "X_valid_drop_cols = X_valid.drop(cols_with_missing_vals, axis=1)\n",
    "\n",
    "print(X_train_drop_cols.shape, y_train.shape)\n",
    "print(\"MAE (Drop columns with missing values):\")\n",
    "print(score_dataset(X_train_drop_cols, X_valid_drop_cols, y_train, y_valid))\n"
   ]
  },
  {
   "attachments": {},
   "cell_type": "markdown",
   "metadata": {},
   "source": [
    "### Test dropping rows with missing values"
   ]
  },
  {
   "cell_type": "code",
   "execution_count": 158,
   "metadata": {},
   "outputs": [],
   "source": [
    "def drop_rows_with_missing_vals(X_train,X_valid, y_train,y_valid):\n",
    "    # which rows have missing values\n",
    "    X_train_rows_to_drop = X_train[X_train.isnull().any(axis=1)].index.values\n",
    "    X_valid_rows_to_drop = X_valid[X_valid.isnull().any(axis=1)].index.values\n",
    "\n",
    "    # which rows to keep\n",
    "    training_rows_to_keep = [r for r in X_train.index.values\n",
    "                            if r not in X_train_rows_to_drop]\n",
    "    validation_rows_to_keep = [r for r in X_valid.index.values\n",
    "                                if r not in X_valid_rows_to_drop]\n",
    "\n",
    "    # remove rows form features and predictors\n",
    "    final_x_train = X_train.loc[training_rows_to_keep]\n",
    "    final_y_train = y_train.loc[training_rows_to_keep]\n",
    "\n",
    "    final_x_valid = X_valid.loc[validation_rows_to_keep]\n",
    "    final_y_valid = y_valid.loc[validation_rows_to_keep]\n",
    "    return final_x_train, final_x_valid, final_y_train,final_y_valid"
   ]
  },
  {
   "cell_type": "code",
   "execution_count": 159,
   "metadata": {},
   "outputs": [
    {
     "name": "stdout",
     "output_type": "stream",
     "text": [
      "MAE (Drop rows with missing values):\n",
      "19872.120358744392\n"
     ]
    }
   ],
   "source": [
    "print(\"MAE (Drop rows with missing values):\")\n",
    "X_train_drop_rows, X_valid_drop_rows, y_train_drop_rows,y_valid_drop_rows  = drop_rows_with_missing_vals(\n",
    "    X_train,X_valid,y_train,y_valid\n",
    ")\n",
    "print(score_dataset(X_train_drop_rows, X_valid_drop_rows, y_train_drop_rows, y_valid_drop_rows))"
   ]
  },
  {
   "attachments": {},
   "cell_type": "markdown",
   "metadata": {},
   "source": [
    "### Test imputing values"
   ]
  },
  {
   "cell_type": "code",
   "execution_count": 160,
   "metadata": {},
   "outputs": [
    {
     "name": "stdout",
     "output_type": "stream",
     "text": [
      "(1168, 36) (1168,) (292, 36) (292,)\n"
     ]
    }
   ],
   "source": [
    "from sklearn.impute import SimpleImputer\n",
    "\n",
    "my_imputer = SimpleImputer()\n",
    "imputed_X_train = pd.DataFrame(my_imputer.fit_transform(X_train))\n",
    "imputed_X_valid = pd.DataFrame(my_imputer.transform(X_valid))\n",
    "\n",
    "# Fill in the lines below: imputation removed column names; put them back\n",
    "imputed_X_train.columns = X_train.columns\n",
    "imputed_X_valid.columns = X_valid.columns\n",
    "\n",
    "print(imputed_X_train.shape, y_train.shape,imputed_X_valid.shape, y_valid.shape)"
   ]
  },
  {
   "cell_type": "code",
   "execution_count": 161,
   "metadata": {},
   "outputs": [
    {
     "name": "stdout",
     "output_type": "stream",
     "text": [
      "MAE (Imputation):\n",
      "18062.894611872147\n"
     ]
    }
   ],
   "source": [
    "print(\"MAE (Imputation):\")\n",
    "print(score_dataset(imputed_X_train, imputed_X_valid, y_train, y_valid))"
   ]
  },
  {
   "attachments": {},
   "cell_type": "markdown",
   "metadata": {},
   "source": [
    "### Generate Test Predictions\n",
    "\n",
    "- preprocess training and validation features (deal with missing values)\n",
    "- train and evaluate random forest model\n",
    "- preprocess test data and generate predictions\n"
   ]
  },
  {
   "cell_type": "code",
   "execution_count": 162,
   "metadata": {},
   "outputs": [
    {
     "name": "stdout",
     "output_type": "stream",
     "text": [
      "(1168, 36) (292, 36) (1168,) (292,)\n"
     ]
    }
   ],
   "source": [
    "imputer = SimpleImputer(strategy='mean')\n",
    "final_X_train = pd.DataFrame(imputer.fit_transform(X_train.copy()))\n",
    "final_X_valid = pd.DataFrame(imputer.fit_transform(X_valid.copy()))\n",
    "\n",
    "# Imputation removed column names; put them back\n",
    "final_X_train.columns = X_train.columns\n",
    "final_X_valid.columns = X_valid.columns\n",
    "\n",
    "print(final_X_train.shape, final_X_valid.shape,y_train.shape,y_valid.shape)\n",
    "\n"
   ]
  },
  {
   "cell_type": "code",
   "execution_count": 163,
   "metadata": {},
   "outputs": [
    {
     "name": "stdout",
     "output_type": "stream",
     "text": [
      "0\n",
      "0\n",
      "0\n",
      "0\n"
     ]
    }
   ],
   "source": [
    "print(final_X_train.isnull().sum(axis=0).sum())\n",
    "print(final_X_valid.isnull().sum(axis=0).sum())\n",
    "print(y_train.isnull().sum())\n",
    "print(y_valid.isnull().sum())"
   ]
  },
  {
   "cell_type": "code",
   "execution_count": 164,
   "metadata": {},
   "outputs": [
    {
     "name": "stdout",
     "output_type": "stream",
     "text": [
      "18056.85163242009\n"
     ]
    }
   ],
   "source": [
    "final_model = RandomForestRegressor(n_estimators=100,random_state=0)\n",
    "final_model.fit(final_X_train,y_train)\n",
    "predictions =  final_model.predict(final_X_valid)\n",
    "print(mean_absolute_error(y_valid, predictions))"
   ]
  },
  {
   "cell_type": "code",
   "execution_count": 165,
   "metadata": {},
   "outputs": [
    {
     "name": "stdout",
     "output_type": "stream",
     "text": [
      "0\n",
      "(1459, 36) (1459, 36)\n"
     ]
    }
   ],
   "source": [
    "#preprocess test data\n",
    "X_test_copy = X_test.copy()\n",
    "# Fill in the line below: preprocess test data\n",
    "final_X_test = pd.DataFrame(imputer.fit_transform(X_test_copy))\n",
    "final_X_test.columns = X_test_copy.columns\n",
    "print(final_X_test.isnull().sum().sum())\n",
    "print(final_X_test.shape, X_test.shape)"
   ]
  },
  {
   "cell_type": "code",
   "execution_count": 166,
   "metadata": {},
   "outputs": [
    {
     "name": "stdout",
     "output_type": "stream",
     "text": [
      "<class 'numpy.ndarray'>\n"
     ]
    },
    {
     "data": {
      "text/plain": [
       "array([125245.5 , 155237.  , 180755.22, ..., 154283.87, 107723.5 ,\n",
       "       228591.59])"
      ]
     },
     "execution_count": 166,
     "metadata": {},
     "output_type": "execute_result"
    }
   ],
   "source": [
    "# Get model predictions on test data ...\n",
    "final_predictions = final_model.predict(final_X_test)\n",
    "print(type(final_predictions))\n",
    "final_predictions"
   ]
  },
  {
   "cell_type": "code",
   "execution_count": 167,
   "metadata": {},
   "outputs": [],
   "source": [
    "# Save test predictions to file\n",
    "output = pd.DataFrame({'Id': X_test.index,\n",
    "                       'SalePrice': final_predictions})\n",
    "output.to_csv('submission-dealt-with-missing-vals.csv', index=False)"
   ]
  }
 ],
 "metadata": {
  "kernelspec": {
   "display_name": "Python 3",
   "language": "python",
   "name": "python3"
  },
  "language_info": {
   "codemirror_mode": {
    "name": "ipython",
    "version": 3
   },
   "file_extension": ".py",
   "mimetype": "text/x-python",
   "name": "python",
   "nbconvert_exporter": "python",
   "pygments_lexer": "ipython3",
   "version": "3.9.12 (main, Mar 26 2022, 15:45:34) \n[Clang 13.0.0 (clang-1300.0.29.30)]"
  },
  "orig_nbformat": 4,
  "vscode": {
   "interpreter": {
    "hash": "b0fa6594d8f4cbf19f97940f81e996739fb7646882a419484c72d19e05852a7e"
   }
  }
 },
 "nbformat": 4,
 "nbformat_minor": 2
}
